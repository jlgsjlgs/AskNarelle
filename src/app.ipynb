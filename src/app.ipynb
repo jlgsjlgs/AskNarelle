{
 "cells": [
  {
   "cell_type": "code",
   "execution_count": 3,
   "metadata": {},
   "outputs": [
    {
     "data": {
      "text/plain": [
       "True"
      ]
     },
     "execution_count": 3,
     "metadata": {},
     "output_type": "execute_result"
    }
   ],
   "source": [
    "from dotenv import load_dotenv, find_dotenv\n",
    "from langchain.document_loaders import TextLoader\n",
    "from langchain.text_splitter import RecursiveCharacterTextSplitter\n",
    "from langchain.vectorstores import Chroma\n",
    "from langchain.embeddings import OpenAIEmbeddings\n",
    "from langchain.prompts import PromptTemplate\n",
    "from langchain.chat_models import ChatOpenAI\n",
    "from langchain.chains import RetrievalQA\n",
    "\n",
    "load_dotenv(find_dotenv(\"../config/.env\"))\n",
    "#openai.api_key = os.getenv(\"OPENAI_API_KEY\")"
   ]
  },
  {
   "cell_type": "code",
   "execution_count": 4,
   "metadata": {},
   "outputs": [],
   "source": [
    "# Document Loading \n",
    "\n",
    "loader = TextLoader(\"../data/clean-sc1015.txt\")\n",
    "data = loader.load()\n",
    "\n",
    "# Document Splitting\n",
    "\n",
    "text_splitter = RecursiveCharacterTextSplitter(chunk_size = 500, chunk_overlap = 0)\n",
    "all_splits = text_splitter.split_documents(data)\n",
    "\n",
    "# Storing into VectorDB (ChromaDB)\n",
    "persist_directory = \"chroma_db\"\n",
    "vectorstore = Chroma.from_documents(documents=all_splits,embedding=OpenAIEmbeddings(), persist_directory=persist_directory)\n",
    "vectorstore.persist()"
   ]
  },
  {
   "cell_type": "code",
   "execution_count": 5,
   "metadata": {},
   "outputs": [],
   "source": [
    "vectorstore = Chroma(persist_directory=\"./chroma_db\", embedding_function=OpenAIEmbeddings())"
   ]
  },
  {
   "cell_type": "code",
   "execution_count": 6,
   "metadata": {},
   "outputs": [],
   "source": [
    "# Build system prompt\n",
    "\n",
    "template = \"\"\" \n",
    "You are AskNarelle, a FAQ (Frequently Asked Questions) chatbot that is designed to answer course-related queries by undergraduate students.\n",
    "You are to use the provided pieces of context to answer any questions. \n",
    "If you do not know the answer, just reply with \"Sorry, I'm not sure.\", do not try to make up your own answer.\n",
    "You are also to required to keep the answers as concise as possible.\n",
    "Always end with \"Thanks for using AskNarelle!\" at the end of your answer.\n",
    "\n",
    "{context}\n",
    "Question: {question}\n",
    "Helpful Answer:\n",
    "\"\"\""
   ]
  },
  {
   "cell_type": "code",
   "execution_count": 11,
   "metadata": {},
   "outputs": [],
   "source": [
    "QA_CHAIN_PROMPT = PromptTemplate(input_variables=[\"context\", \"question\"], template=template)\n",
    "\n",
    "llm = ChatOpenAI(model_name=\"gpt-3.5-turbo\", temperature=0)\n",
    "qa = RetrievalQA.from_chain_type(llm,\n",
    "                                chain_type='stuff',\n",
    "                                retriever=vectorstore.as_retriever(),\n",
    "                                chain_type_kwargs={\"prompt\": QA_CHAIN_PROMPT})"
   ]
  },
  {
   "cell_type": "code",
   "execution_count": 12,
   "metadata": {},
   "outputs": [
    {
     "name": "stdout",
     "output_type": "stream",
     "text": [
      "Q: Can you explain the grading criteria and rubrics for assignments and exams?\n",
      "A: The grading criteria for this course are as follows:\n",
      "- Quizzes within LAMS: 5%\n",
      "- Theory Quizzes: 40%\n",
      "- Lab Exercises: 25%\n",
      "- Mini-Project: 30%\n",
      "\n",
      "The rubrics for assignments and exams will be provided by your instructor. Please refer to the course materials and instructions for specific details on how your work will be assessed. Thanks for using AskNarelle! \n",
      "\n",
      "Q: What flavor of ice-cream will I get if I were to score a A+ for the course?\n",
      "A: Sorry, I'm not sure. Thanks for using AskNarelle! \n",
      "\n",
      "Q: Who are my professors for the course, and how do I contact them?\n",
      "A: The professors for the course are Associate Prof Bo AN and Dr Sourav SEN GUPTA. You can contact them via email at boan@ntu.edu.sg and sg.sourav@ntu.edu.sg respectively. Thanks for using AskNarelle! \n",
      "\n",
      "Q: What are the course requirements and prerequisites?\n",
      "A: The course requirements and prerequisites may vary depending on the specific course. It is best to refer to the course outline or contact the course coordinator for detailed information. Thanks for using AskNarelle! \n",
      "\n",
      "Q: What are the learning outcomes you expect students to achieve by the end of the course?\n",
      "A: By the end of this course, students should be able to identify and define data-oriented problems and data-driven decisions in real life, discuss and illustrate problems in terms of data exploration and visualization, apply basic machine learning tools to extract inferential information from the data, compose an engaging \"data-story\" to communicate the problem and the inference, and outline the roles and requirements of artificial intelligence in practical applications. Thanks for using AskNarelle! \n",
      "\n"
     ]
    }
   ],
   "source": [
    "# Test out bot with the 5/30 questions\n",
    "outputs = {}\n",
    "\n",
    "with open('../data/5questions.txt', 'r') as file:\n",
    "    for line in file:\n",
    "        question = line.strip()\n",
    "        result = qa.run(question)\n",
    "        outputs[question] = result\n",
    "\n",
    "for key, val in outputs.items():\n",
    "    print(\"Q:\", key)\n",
    "    print(\"A:\", val, \"\\n\")"
   ]
  },
  {
   "cell_type": "code",
   "execution_count": 13,
   "metadata": {},
   "outputs": [
    {
     "name": "stdout",
     "output_type": "stream",
     "text": [
      "The programming language used in this course is Python. Thanks for using AskNarelle!\n"
     ]
    }
   ],
   "source": [
    "# Custom single prompt to test out bot\n",
    "\n",
    "query = \"What are the programming language(s) that I will be using in this course?\"\n",
    "result = qa.run(query)\n",
    "print(result)"
   ]
  },
  {
   "cell_type": "code",
   "execution_count": null,
   "metadata": {},
   "outputs": [],
   "source": []
  }
 ],
 "metadata": {
  "kernelspec": {
   "display_name": "Python 3",
   "language": "python",
   "name": "python3"
  },
  "language_info": {
   "codemirror_mode": {
    "name": "ipython",
    "version": 3
   },
   "file_extension": ".py",
   "mimetype": "text/x-python",
   "name": "python",
   "nbconvert_exporter": "python",
   "pygments_lexer": "ipython3",
   "version": "3.10.12"
  },
  "orig_nbformat": 4
 },
 "nbformat": 4,
 "nbformat_minor": 2
}
